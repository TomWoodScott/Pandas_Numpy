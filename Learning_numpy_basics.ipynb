{
 "cells": [
  {
   "cell_type": "markdown",
   "id": "0d529c7a-656d-44c4-9777-0154fc2f26d1",
   "metadata": {},
   "source": [
    "## NumPy"
   ]
  },
  {
   "cell_type": "markdown",
   "id": "aef3bab6-7033-48a2-88a7-15c75f1b4a38",
   "metadata": {},
   "source": [
    "### start"
   ]
  },
  {
   "cell_type": "markdown",
   "id": "5f2e40d3-5917-4b25-b6d6-daf6844f5783",
   "metadata": {},
   "source": [
    "imports"
   ]
  },
  {
   "cell_type": "code",
   "execution_count": 2,
   "id": "b2da17d6-9b35-48e0-a327-a847670621f9",
   "metadata": {},
   "outputs": [],
   "source": [
    "import sys\n",
    "import numpy as np"
   ]
  },
  {
   "cell_type": "markdown",
   "id": "fb64776a-93e4-4273-9ae6-d42c93476cc5",
   "metadata": {},
   "source": [
    "## Basic Numpy Arrays"
   ]
  },
  {
   "cell_type": "code",
   "execution_count": 6,
   "id": "c3481041-b0b8-4b3b-8a6d-bc0da18ff4e1",
   "metadata": {},
   "outputs": [],
   "source": [
    "a= np.array([1,2,3,4])"
   ]
  },
  {
   "cell_type": "code",
   "execution_count": 7,
   "id": "d5edf0cd-83e3-485b-94b4-7002de866158",
   "metadata": {},
   "outputs": [],
   "source": [
    "b = np.array([0,.5,1,1.5,2])"
   ]
  },
  {
   "cell_type": "code",
   "execution_count": 8,
   "id": "ccf69e60-a60a-443f-842a-3c3d77f8809f",
   "metadata": {},
   "outputs": [
    {
     "data": {
      "text/plain": [
       "(1, 2)"
      ]
     },
     "execution_count": 8,
     "metadata": {},
     "output_type": "execute_result"
    }
   ],
   "source": [
    "a[0], a[1]"
   ]
  },
  {
   "cell_type": "code",
   "execution_count": 9,
   "id": "0f9555fe-ef82-48d2-826f-2f3efb2a0594",
   "metadata": {},
   "outputs": [
    {
     "data": {
      "text/plain": [
       "array([1, 2, 3, 4])"
      ]
     },
     "execution_count": 9,
     "metadata": {},
     "output_type": "execute_result"
    }
   ],
   "source": [
    "a[:]"
   ]
  },
  {
   "cell_type": "markdown",
   "id": "001f75c0-ccfe-4400-9bb9-ce3080ff75a3",
   "metadata": {},
   "source": [
    "#### say you want another array that is a subset of b, containing 1st, 3rd and last element, we can use mult-indexing"
   ]
  },
  {
   "cell_type": "code",
   "execution_count": 10,
   "id": "4cf2b866-59ca-4d5f-8859-45ba5155db30",
   "metadata": {},
   "outputs": [
    {
     "data": {
      "text/plain": [
       "array([0., 1., 2.])"
      ]
     },
     "execution_count": 10,
     "metadata": {},
     "output_type": "execute_result"
    }
   ],
   "source": [
    "b[[0,2,-1]]"
   ]
  },
  {
   "cell_type": "markdown",
   "id": "4cecd8a5-520c-4522-a261-fe547eb8e928",
   "metadata": {},
   "source": [
    "## Array Types"
   ]
  },
  {
   "cell_type": "code",
   "execution_count": 11,
   "id": "8efb1b3a-2f57-49a0-b7ed-d467db26529e",
   "metadata": {},
   "outputs": [
    {
     "data": {
      "text/plain": [
       "array([1, 2, 3, 4])"
      ]
     },
     "execution_count": 11,
     "metadata": {},
     "output_type": "execute_result"
    }
   ],
   "source": [
    "a"
   ]
  },
  {
   "cell_type": "code",
   "execution_count": 12,
   "id": "108927c8-7612-415f-93fb-40def7cdde9c",
   "metadata": {},
   "outputs": [
    {
     "data": {
      "text/plain": [
       "dtype('int32')"
      ]
     },
     "execution_count": 12,
     "metadata": {},
     "output_type": "execute_result"
    }
   ],
   "source": [
    "a.dtype"
   ]
  },
  {
   "cell_type": "code",
   "execution_count": 13,
   "id": "3fd84723-e8c2-41ad-b8cb-38bfe1f67261",
   "metadata": {},
   "outputs": [
    {
     "data": {
      "text/plain": [
       "dtype('float64')"
      ]
     },
     "execution_count": 13,
     "metadata": {},
     "output_type": "execute_result"
    }
   ],
   "source": [
    "b.dtype"
   ]
  },
  {
   "cell_type": "markdown",
   "id": "db3f29e2-57f5-46eb-a26e-2ad9a8e460b2",
   "metadata": {},
   "source": [
    "#### As discussed we can select a differnt data type, to store the array more efficiently"
   ]
  },
  {
   "cell_type": "code",
   "execution_count": 16,
   "id": "d0e2d1af-058c-46f2-a9b9-4342ec3c5021",
   "metadata": {},
   "outputs": [],
   "source": [
    "c = np.array([1,2,3,4], dtype = np.int8)"
   ]
  },
  {
   "cell_type": "code",
   "execution_count": 17,
   "id": "35a58950-b4e5-474e-bb75-797930f7b8a9",
   "metadata": {},
   "outputs": [
    {
     "data": {
      "text/plain": [
       "array([1, 2, 3, 4], dtype=int8)"
      ]
     },
     "execution_count": 17,
     "metadata": {},
     "output_type": "execute_result"
    }
   ],
   "source": [
    "c"
   ]
  },
  {
   "cell_type": "code",
   "execution_count": 18,
   "id": "9a9a0c50-3ebb-4684-b96e-e01ec0774235",
   "metadata": {},
   "outputs": [
    {
     "data": {
      "text/plain": [
       "dtype('int8')"
      ]
     },
     "execution_count": 18,
     "metadata": {},
     "output_type": "execute_result"
    }
   ],
   "source": [
    "c.dtype"
   ]
  },
  {
   "cell_type": "markdown",
   "id": "6b1c558b-39aa-4037-919c-e85a3c683f20",
   "metadata": {},
   "source": [
    "## Dimensions and shapes"
   ]
  },
  {
   "cell_type": "code",
   "execution_count": 20,
   "id": "1ce6c0fa-5df7-431b-be6f-0859856f9fb6",
   "metadata": {},
   "outputs": [],
   "source": [
    "A = np.array([\n",
    "    [1,2,3],\n",
    "    [3,5,6]\n",
    "])"
   ]
  },
  {
   "cell_type": "code",
   "execution_count": 21,
   "id": "1d47f55a-4c6f-41ab-b62e-73bd7e5ee7d8",
   "metadata": {},
   "outputs": [
    {
     "data": {
      "text/plain": [
       "(2, 3)"
      ]
     },
     "execution_count": 21,
     "metadata": {},
     "output_type": "execute_result"
    }
   ],
   "source": [
    "A.shape"
   ]
  },
  {
   "cell_type": "code",
   "execution_count": 22,
   "id": "0ca74129-b1b9-4fc7-999f-8fea4479b5f7",
   "metadata": {},
   "outputs": [
    {
     "data": {
      "text/plain": [
       "2"
      ]
     },
     "execution_count": 22,
     "metadata": {},
     "output_type": "execute_result"
    }
   ],
   "source": [
    "A.ndim"
   ]
  },
  {
   "cell_type": "code",
   "execution_count": 23,
   "id": "7ec8fe33-ef77-423c-b0a0-0cff25437717",
   "metadata": {},
   "outputs": [
    {
     "data": {
      "text/plain": [
       "6"
      ]
     },
     "execution_count": 23,
     "metadata": {},
     "output_type": "execute_result"
    }
   ],
   "source": [
    "A.size"
   ]
  },
  {
   "cell_type": "code",
   "execution_count": 26,
   "id": "e38a4d8d-3569-421d-a7e9-67c02431ee23",
   "metadata": {},
   "outputs": [],
   "source": [
    "B = np.array([\n",
    "    [[12,11,10],[9,8,7]],\n",
    "    [[6,5,4],[3,2,1]]\n",
    "])"
   ]
  },
  {
   "cell_type": "code",
   "execution_count": 27,
   "id": "9d15fb97-e106-454f-bb3b-e8f44aff33dd",
   "metadata": {},
   "outputs": [
    {
     "data": {
      "text/plain": [
       "array([[[12, 11, 10],\n",
       "        [ 9,  8,  7]],\n",
       "\n",
       "       [[ 6,  5,  4],\n",
       "        [ 3,  2,  1]]])"
      ]
     },
     "execution_count": 27,
     "metadata": {},
     "output_type": "execute_result"
    }
   ],
   "source": [
    "B"
   ]
  },
  {
   "cell_type": "code",
   "execution_count": 28,
   "id": "9da0962d-8df8-41b8-8c74-0cfc90d2ba00",
   "metadata": {},
   "outputs": [
    {
     "data": {
      "text/plain": [
       "(2, 2, 3)"
      ]
     },
     "execution_count": 28,
     "metadata": {},
     "output_type": "execute_result"
    }
   ],
   "source": [
    "B.shape"
   ]
  },
  {
   "cell_type": "code",
   "execution_count": 29,
   "id": "5f81636f-eff6-4504-aa65-7147d4aeb173",
   "metadata": {},
   "outputs": [
    {
     "data": {
      "text/plain": [
       "3"
      ]
     },
     "execution_count": 29,
     "metadata": {},
     "output_type": "execute_result"
    }
   ],
   "source": [
    "B.ndim"
   ]
  },
  {
   "cell_type": "code",
   "execution_count": 30,
   "id": "0934dbe4-94ca-4932-8e3c-7a797ab357d1",
   "metadata": {},
   "outputs": [
    {
     "data": {
      "text/plain": [
       "12"
      ]
     },
     "execution_count": 30,
     "metadata": {},
     "output_type": "execute_result"
    }
   ],
   "source": [
    "B.size"
   ]
  },
  {
   "cell_type": "markdown",
   "id": "be94bd85-ac83-4f82-8bed-f2b9e86bad46",
   "metadata": {},
   "source": [
    "#### If the dimensions do not match, the code with revert back to standart python object!!!\n",
    "\n",
    "\n",
    "\n",
    "\n"
   ]
  },
  {
   "cell_type": "markdown",
   "id": "8ba4dfbd-de00-4cd3-a4d5-f5713b06011c",
   "metadata": {},
   "source": [
    "#### Lets look at a square matrix"
   ]
  },
  {
   "cell_type": "code",
   "execution_count": 32,
   "id": "39e31862-d159-4b06-a8d9-ae006f796147",
   "metadata": {},
   "outputs": [],
   "source": [
    "# square matrix\n",
    "A = np.array([\n",
    "    [1,2,3],\n",
    "    [4,5,6],\n",
    "    [7,8,9]\n",
    "])"
   ]
  },
  {
   "cell_type": "markdown",
   "id": "f62f5053-22eb-4bba-9c41-0d002fea7499",
   "metadata": {},
   "source": [
    "as expected"
   ]
  },
  {
   "cell_type": "code",
   "execution_count": 33,
   "id": "37eef006-4961-4163-85cf-2c1a8c12ae0e",
   "metadata": {},
   "outputs": [
    {
     "data": {
      "text/plain": [
       "array([4, 5, 6])"
      ]
     },
     "execution_count": 33,
     "metadata": {},
     "output_type": "execute_result"
    }
   ],
   "source": [
    "A[1]"
   ]
  },
  {
   "cell_type": "code",
   "execution_count": 34,
   "id": "4e3c1470-64f9-4764-87af-f2a1d7c9967b",
   "metadata": {},
   "outputs": [
    {
     "data": {
      "text/plain": [
       "5"
      ]
     },
     "execution_count": 34,
     "metadata": {},
     "output_type": "execute_result"
    }
   ],
   "source": [
    "A[1][1]"
   ]
  },
  {
   "cell_type": "markdown",
   "id": "ddd51854-45fe-4952-833e-8fcd34100714",
   "metadata": {},
   "source": [
    "#### Continuing the indexting is natural"
   ]
  },
  {
   "cell_type": "code",
   "execution_count": 35,
   "id": "d2b6f000-1e42-45b4-9bdb-359deb6e2b96",
   "metadata": {},
   "outputs": [
    {
     "data": {
      "text/plain": [
       "array([[1, 2],\n",
       "       [4, 5],\n",
       "       [7, 8]])"
      ]
     },
     "execution_count": 35,
     "metadata": {},
     "output_type": "execute_result"
    }
   ],
   "source": [
    "A[:,:2]"
   ]
  },
  {
   "cell_type": "code",
   "execution_count": 40,
   "id": "3a840274-b691-4c9d-8327-ff3807dba54b",
   "metadata": {},
   "outputs": [
    {
     "data": {
      "text/plain": [
       "array([[1, 2],\n",
       "       [4, 5]])"
      ]
     },
     "execution_count": 40,
     "metadata": {},
     "output_type": "execute_result"
    }
   ],
   "source": [
    "A[:2,:2]"
   ]
  },
  {
   "cell_type": "markdown",
   "id": "755f2685-7afd-4cc8-acf3-61b8f8f945f7",
   "metadata": {},
   "source": [
    "#### Replacing elements"
   ]
  },
  {
   "cell_type": "code",
   "execution_count": 41,
   "id": "9c31ae62-361b-4449-838e-391a71448d14",
   "metadata": {},
   "outputs": [],
   "source": [
    "A[1] -=1"
   ]
  },
  {
   "cell_type": "code",
   "execution_count": 42,
   "id": "f94b06fc-90a9-45c4-89df-a8d2392e4761",
   "metadata": {},
   "outputs": [
    {
     "data": {
      "text/plain": [
       "array([[1, 2, 3],\n",
       "       [3, 4, 5],\n",
       "       [7, 8, 9]])"
      ]
     },
     "execution_count": 42,
     "metadata": {},
     "output_type": "execute_result"
    }
   ],
   "source": [
    "A"
   ]
  },
  {
   "cell_type": "code",
   "execution_count": 43,
   "id": "2b427b24-be03-4cc5-9538-1c1fd808f68d",
   "metadata": {},
   "outputs": [],
   "source": [
    "A[2][1] = 111"
   ]
  },
  {
   "cell_type": "code",
   "execution_count": 44,
   "id": "8c32776c-9988-4f54-b609-2519932bcb4c",
   "metadata": {},
   "outputs": [
    {
     "data": {
      "text/plain": [
       "array([[  1,   2,   3],\n",
       "       [  3,   4,   5],\n",
       "       [  7, 111,   9]])"
      ]
     },
     "execution_count": 44,
     "metadata": {},
     "output_type": "execute_result"
    }
   ],
   "source": [
    "A"
   ]
  },
  {
   "cell_type": "code",
   "execution_count": 45,
   "id": "e3e06b02-4429-4a01-9736-abb5f3f5959e",
   "metadata": {},
   "outputs": [],
   "source": [
    "A[0] = np.array([0,0,0])"
   ]
  },
  {
   "cell_type": "code",
   "execution_count": 46,
   "id": "0b43b7da-d0bc-4dda-a238-2b59e1d42ed8",
   "metadata": {},
   "outputs": [
    {
     "data": {
      "text/plain": [
       "array([[  0,   0,   0],\n",
       "       [  3,   4,   5],\n",
       "       [  7, 111,   9]])"
      ]
     },
     "execution_count": 46,
     "metadata": {},
     "output_type": "execute_result"
    }
   ],
   "source": [
    "A"
   ]
  },
  {
   "cell_type": "markdown",
   "id": "f70ce828-369f-4658-a06d-d78a64a6fb30",
   "metadata": {},
   "source": [
    "#### Summary statistics"
   ]
  },
  {
   "cell_type": "code",
   "execution_count": 47,
   "id": "3d0994ae-5e24-4c53-9c89-abf035dc50fc",
   "metadata": {},
   "outputs": [],
   "source": [
    "A = np.array([\n",
    "    [0,1,2],\n",
    "    [3,4,5],\n",
    "    [6,7,8]\n",
    "])"
   ]
  },
  {
   "cell_type": "code",
   "execution_count": 48,
   "id": "b25842a6-eda5-4c15-855c-0e49bce26f79",
   "metadata": {},
   "outputs": [
    {
     "data": {
      "text/plain": [
       "array([[0, 1, 2],\n",
       "       [3, 4, 5],\n",
       "       [6, 7, 8]])"
      ]
     },
     "execution_count": 48,
     "metadata": {},
     "output_type": "execute_result"
    }
   ],
   "source": [
    "A"
   ]
  },
  {
   "cell_type": "code",
   "execution_count": 50,
   "id": "fbd42bdc-bf63-42da-acc7-15654c2b7fd2",
   "metadata": {},
   "outputs": [
    {
     "data": {
      "text/plain": [
       "36"
      ]
     },
     "execution_count": 50,
     "metadata": {},
     "output_type": "execute_result"
    }
   ],
   "source": [
    "A.sum()"
   ]
  },
  {
   "cell_type": "code",
   "execution_count": 52,
   "id": "fef8eae3-8470-408e-b2b9-ec146e2acdb0",
   "metadata": {},
   "outputs": [
    {
     "data": {
      "text/plain": [
       "4.0"
      ]
     },
     "execution_count": 52,
     "metadata": {},
     "output_type": "execute_result"
    }
   ],
   "source": [
    "A.mean()"
   ]
  },
  {
   "cell_type": "code",
   "execution_count": 53,
   "id": "a551f7f6-d9b1-4aa9-94ea-74cc4d0c1926",
   "metadata": {},
   "outputs": [
    {
     "data": {
      "text/plain": [
       "2.581988897471611"
      ]
     },
     "execution_count": 53,
     "metadata": {},
     "output_type": "execute_result"
    }
   ],
   "source": [
    "A.std()"
   ]
  },
  {
   "cell_type": "code",
   "execution_count": 54,
   "id": "26540fa6-9633-4089-8d3e-08d12707014b",
   "metadata": {},
   "outputs": [
    {
     "data": {
      "text/plain": [
       "array([3., 4., 5.])"
      ]
     },
     "execution_count": 54,
     "metadata": {},
     "output_type": "execute_result"
    }
   ],
   "source": [
    "A.mean(axis= 0)"
   ]
  },
  {
   "cell_type": "code",
   "execution_count": 55,
   "id": "e4909a39-8520-489c-8e0d-df982fe082de",
   "metadata": {},
   "outputs": [
    {
     "data": {
      "text/plain": [
       "array([ 9, 12, 15])"
      ]
     },
     "execution_count": 55,
     "metadata": {},
     "output_type": "execute_result"
    }
   ],
   "source": [
    "A.sum(axis=0)"
   ]
  },
  {
   "cell_type": "markdown",
   "id": "8f5e0cae-3aa9-4ebb-9061-0bf378797b3c",
   "metadata": {},
   "source": [
    "## Broadcasting and Vectorized operations"
   ]
  },
  {
   "cell_type": "code",
   "execution_count": 8,
   "id": "5bb2a41a-1e93-406d-8de0-fc0842db8643",
   "metadata": {},
   "outputs": [],
   "source": [
    "a = np.arange(4)"
   ]
  },
  {
   "cell_type": "code",
   "execution_count": 9,
   "id": "5f8b8f44-3c30-4581-83d6-c3bcaa383bd5",
   "metadata": {},
   "outputs": [
    {
     "data": {
      "text/plain": [
       "array([0, 1, 2, 3])"
      ]
     },
     "execution_count": 9,
     "metadata": {},
     "output_type": "execute_result"
    }
   ],
   "source": [
    "a"
   ]
  },
  {
   "cell_type": "markdown",
   "id": "08f99a52-a1fe-4b5f-8d7e-fa8c3e4d23c3",
   "metadata": {},
   "source": [
    "operations work at an array level, every element in the array is effected"
   ]
  },
  {
   "cell_type": "code",
   "execution_count": 10,
   "id": "eb88679c-1b15-4611-bb61-8ab537cb500e",
   "metadata": {},
   "outputs": [
    {
     "data": {
      "text/plain": [
       "array([10, 11, 12, 13])"
      ]
     },
     "execution_count": 10,
     "metadata": {},
     "output_type": "execute_result"
    }
   ],
   "source": [
    "a + 10"
   ]
  },
  {
   "cell_type": "markdown",
   "id": "48ac6f5b-0770-465d-8d55-0b1d015b0897",
   "metadata": {},
   "source": [
    "This does not, by default, overide the array"
   ]
  },
  {
   "cell_type": "code",
   "execution_count": 11,
   "id": "212ae9e2-e993-424e-90ce-b944cb331727",
   "metadata": {},
   "outputs": [
    {
     "data": {
      "text/plain": [
       "array([0, 1, 2, 3])"
      ]
     },
     "execution_count": 11,
     "metadata": {},
     "output_type": "execute_result"
    }
   ],
   "source": [
    "a"
   ]
  },
  {
   "cell_type": "markdown",
   "id": "dac1237f-9b2a-4011-b5a3-a267dac5f770",
   "metadata": {},
   "source": [
    "as expected some list comprehension"
   ]
  },
  {
   "cell_type": "code",
   "execution_count": 12,
   "id": "0a732078-940b-47ce-b5f2-9f1d71ade9a6",
   "metadata": {},
   "outputs": [],
   "source": [
    "l = [0,1,2,3]"
   ]
  },
  {
   "cell_type": "code",
   "execution_count": 15,
   "id": "6df50e07-c3ec-44f3-ae96-fe3a7e54e4bb",
   "metadata": {},
   "outputs": [],
   "source": [
    "bb = np.array([i * 10 for i in l])"
   ]
  },
  {
   "cell_type": "code",
   "execution_count": 16,
   "id": "27e1e501-e234-4c85-907f-943c021b5005",
   "metadata": {},
   "outputs": [
    {
     "data": {
      "text/plain": [
       "array([ 0, 10, 20, 30])"
      ]
     },
     "execution_count": 16,
     "metadata": {},
     "output_type": "execute_result"
    }
   ],
   "source": [
    "bb"
   ]
  },
  {
   "cell_type": "code",
   "execution_count": 17,
   "id": "5fe8fb24-8a72-42a8-bbfe-e0f4bb2080ae",
   "metadata": {},
   "outputs": [],
   "source": [
    "b = np.array([10,10,10,10])"
   ]
  },
  {
   "cell_type": "code",
   "execution_count": 18,
   "id": "a2eac14a-5f7c-4dfd-ac4a-d1aa2ae97d37",
   "metadata": {},
   "outputs": [
    {
     "data": {
      "text/plain": [
       "array([10, 10, 10, 10])"
      ]
     },
     "execution_count": 18,
     "metadata": {},
     "output_type": "execute_result"
    }
   ],
   "source": [
    "b"
   ]
  },
  {
   "cell_type": "code",
   "execution_count": 19,
   "id": "96696868-d12a-4115-8dda-e8c8ae7045ef",
   "metadata": {},
   "outputs": [
    {
     "data": {
      "text/plain": [
       "array([10, 20, 30, 40])"
      ]
     },
     "execution_count": 19,
     "metadata": {},
     "output_type": "execute_result"
    }
   ],
   "source": [
    "b + bb"
   ]
  },
  {
   "cell_type": "markdown",
   "id": "1f3eec1e-608c-44b7-82fb-b4d04335810b",
   "metadata": {
    "tags": []
   },
   "source": [
    "These proccesses are very memory efficient and fast"
   ]
  },
  {
   "cell_type": "markdown",
   "id": "02a76d39-219f-45ea-82c8-8b6419c40b5d",
   "metadata": {},
   "source": [
    "## Boolean arrays"
   ]
  },
  {
   "cell_type": "markdown",
   "id": "2e47704b-f518-4891-a992-23f574605698",
   "metadata": {},
   "source": [
    "(also called masks!)"
   ]
  },
  {
   "cell_type": "code",
   "execution_count": 20,
   "id": "80c040e8-8338-4ece-86b8-3b6dbbb89115",
   "metadata": {},
   "outputs": [],
   "source": [
    "a = np.arange(4)"
   ]
  },
  {
   "cell_type": "code",
   "execution_count": 21,
   "id": "8db2f636-a647-4ca8-9387-b63f8d77839b",
   "metadata": {},
   "outputs": [
    {
     "data": {
      "text/plain": [
       "array([0, 1, 2, 3])"
      ]
     },
     "execution_count": 21,
     "metadata": {},
     "output_type": "execute_result"
    }
   ],
   "source": [
    "a"
   ]
  },
  {
   "cell_type": "code",
   "execution_count": 22,
   "id": "fdb327d7-bd81-4dd8-8b00-ee2c74fe1b3f",
   "metadata": {},
   "outputs": [
    {
     "data": {
      "text/plain": [
       "array([0, 3])"
      ]
     },
     "execution_count": 22,
     "metadata": {},
     "output_type": "execute_result"
    }
   ],
   "source": [
    "a[[0,-1]]"
   ]
  },
  {
   "cell_type": "markdown",
   "id": "00981c37-4bf6-4d9e-b156-92b1a52a12ed",
   "metadata": {},
   "source": [
    "selecting elements using boolean values"
   ]
  },
  {
   "cell_type": "code",
   "execution_count": 23,
   "id": "04949cc2-0eae-4fbd-ab2f-9dddfed31a5b",
   "metadata": {},
   "outputs": [
    {
     "data": {
      "text/plain": [
       "array([0, 3])"
      ]
     },
     "execution_count": 23,
     "metadata": {},
     "output_type": "execute_result"
    }
   ],
   "source": [
    "a[[True, False, False, True]]"
   ]
  },
  {
   "cell_type": "markdown",
   "id": "7460aecb-80c9-44af-ad7d-69a1ce253031",
   "metadata": {},
   "source": [
    "not too complicated!\n",
    "\n",
    "this is not very practical for large arrays\n",
    "lets explore more!"
   ]
  },
  {
   "cell_type": "code",
   "execution_count": 25,
   "id": "f10bc6a2-fdd9-415b-a76d-8453e3008896",
   "metadata": {},
   "outputs": [
    {
     "data": {
      "text/plain": [
       "array([False, False,  True,  True])"
      ]
     },
     "execution_count": 25,
     "metadata": {},
     "output_type": "execute_result"
    }
   ],
   "source": [
    "a >= 2"
   ]
  },
  {
   "cell_type": "code",
   "execution_count": 26,
   "id": "f0c8c574-42f3-420f-9806-0d858427e058",
   "metadata": {},
   "outputs": [
    {
     "data": {
      "text/plain": [
       "array([2, 3])"
      ]
     },
     "execution_count": 26,
     "metadata": {},
     "output_type": "execute_result"
    }
   ],
   "source": [
    "a[a >= 2]"
   ]
  },
  {
   "cell_type": "markdown",
   "id": "ec8f8653-1b23-4bf3-8dbc-899b9b5a59c4",
   "metadata": {},
   "source": [
    "this is effectivly saying give me an array where all the elements are elements from a that meet the specified conditions"
   ]
  },
  {
   "cell_type": "code",
   "execution_count": 27,
   "id": "b0a97037-c2a0-41a4-a2c6-1276ac1c30fd",
   "metadata": {},
   "outputs": [
    {
     "data": {
      "text/plain": [
       "1.5"
      ]
     },
     "execution_count": 27,
     "metadata": {},
     "output_type": "execute_result"
    }
   ],
   "source": [
    "a.mean()"
   ]
  },
  {
   "cell_type": "code",
   "execution_count": 28,
   "id": "daa91a29-ff4e-40a2-8c4c-031d02389a70",
   "metadata": {},
   "outputs": [
    {
     "data": {
      "text/plain": [
       "array([2, 3])"
      ]
     },
     "execution_count": 28,
     "metadata": {},
     "output_type": "execute_result"
    }
   ],
   "source": [
    "a[a > a.mean()]"
   ]
  },
  {
   "cell_type": "markdown",
   "id": "fa895eb3-be73-4e38-9070-eb2c96ac4c3c",
   "metadata": {},
   "source": [
    "~ means 'not'"
   ]
  },
  {
   "cell_type": "code",
   "execution_count": 30,
   "id": "6aace173-6b24-4a3b-b2e5-24a0074916cd",
   "metadata": {},
   "outputs": [
    {
     "data": {
      "text/plain": [
       "array([0, 1])"
      ]
     },
     "execution_count": 30,
     "metadata": {},
     "output_type": "execute_result"
    }
   ],
   "source": [
    "a[~(a > a.mean())]"
   ]
  },
  {
   "cell_type": "markdown",
   "id": "f6b26bc3-715b-4d92-9581-89e9426c968c",
   "metadata": {},
   "source": [
    "give me the elements that are equal to 0 or 1"
   ]
  },
  {
   "cell_type": "code",
   "execution_count": 33,
   "id": "eef63a29-1949-4bea-b0d8-77d779335940",
   "metadata": {},
   "outputs": [
    {
     "data": {
      "text/plain": [
       "array([0, 1])"
      ]
     },
     "execution_count": 33,
     "metadata": {},
     "output_type": "execute_result"
    }
   ],
   "source": [
    "a[(a == 0) | (a == 1)]"
   ]
  },
  {
   "cell_type": "markdown",
   "id": "a07aac41-696c-43b8-ac6f-ecdd7908edb5",
   "metadata": {},
   "source": [
    "give me the elements that are equal to 0 AND 1"
   ]
  },
  {
   "cell_type": "code",
   "execution_count": 34,
   "id": "f7a88646-d850-4ded-82c3-4f21f1e4a167",
   "metadata": {},
   "outputs": [
    {
     "data": {
      "text/plain": [
       "array([], dtype=int32)"
      ]
     },
     "execution_count": 34,
     "metadata": {},
     "output_type": "execute_result"
    }
   ],
   "source": [
    "a[(a == 0) & (a ==1)]"
   ]
  },
  {
   "cell_type": "markdown",
   "id": "37b2e21c-d946-432c-971b-c796dc02e83d",
   "metadata": {},
   "source": [
    "give me the elements >= 1 and == 2 "
   ]
  },
  {
   "cell_type": "code",
   "execution_count": 35,
   "id": "248ce868-e8bf-4c8d-9411-c7063d4e29c2",
   "metadata": {},
   "outputs": [
    {
     "data": {
      "text/plain": [
       "array([2])"
      ]
     },
     "execution_count": 35,
     "metadata": {},
     "output_type": "execute_result"
    }
   ],
   "source": [
    "a[(a >= 1) & (a == 2)]"
   ]
  },
  {
   "cell_type": "markdown",
   "id": "026ab194-78f0-4307-9ede-4bba054094ea",
   "metadata": {},
   "source": [
    "---"
   ]
  },
  {
   "cell_type": "markdown",
   "id": "51985820-1fdd-4443-8f94-ed0404cafc3a",
   "metadata": {},
   "source": [
    "### Random integer 3 dimentional square matrix "
   ]
  },
  {
   "cell_type": "code",
   "execution_count": 36,
   "id": "1073ad6f-623b-4749-abc1-d8ba29b4de1b",
   "metadata": {},
   "outputs": [],
   "source": [
    "A = np.random.randint(100, size=(3, 3))"
   ]
  },
  {
   "cell_type": "code",
   "execution_count": 39,
   "id": "1eb3545c-c43d-4c7d-98a4-7e356ac0fd91",
   "metadata": {},
   "outputs": [
    {
     "data": {
      "text/plain": [
       "array([[19, 24, 39],\n",
       "       [15, 65, 67],\n",
       "       [53, 61, 99]])"
      ]
     },
     "execution_count": 39,
     "metadata": {},
     "output_type": "execute_result"
    }
   ],
   "source": [
    "A"
   ]
  },
  {
   "cell_type": "code",
   "execution_count": 44,
   "id": "21c1740e-ad27-4f80-b595-d7e46f894579",
   "metadata": {},
   "outputs": [],
   "source": [
    "B = [np.random.randint(100, size=(3,3)) for i in range(3)]"
   ]
  },
  {
   "cell_type": "code",
   "execution_count": 45,
   "id": "b599cb46-7783-4ec2-a2a3-e01068c095f4",
   "metadata": {},
   "outputs": [
    {
     "data": {
      "text/plain": [
       "[array([[71, 33,  3],\n",
       "        [37, 99, 49],\n",
       "        [27, 68, 11]]),\n",
       " array([[28, 39, 89],\n",
       "        [83, 47,  7],\n",
       "        [68, 55, 28]]),\n",
       " array([[65, 80, 38],\n",
       "        [26, 33, 90],\n",
       "        [84, 62,  5]])]"
      ]
     },
     "execution_count": 45,
     "metadata": {},
     "output_type": "execute_result"
    }
   ],
   "source": [
    "B"
   ]
  },
  {
   "cell_type": "markdown",
   "id": "3afb2f3b-2d24-4074-ac1a-61e2c73e18a7",
   "metadata": {},
   "source": [
    "lets look at using boolian values to find specific elements"
   ]
  },
  {
   "cell_type": "code",
   "execution_count": 48,
   "id": "6d5586e6-6fed-4ffb-bd70-486cde9bfa03",
   "metadata": {},
   "outputs": [
    {
     "data": {
      "text/plain": [
       "array([19, 39, 65, 67])"
      ]
     },
     "execution_count": 48,
     "metadata": {},
     "output_type": "execute_result"
    }
   ],
   "source": [
    "A[np.array([\n",
    "    [True, False, True],\n",
    "    [False, True, True],\n",
    "    [False, False, False]\n",
    "])]"
   ]
  },
  {
   "cell_type": "code",
   "execution_count": 47,
   "id": "d00f895e-2bc7-43ef-b042-4469d929ffa3",
   "metadata": {},
   "outputs": [
    {
     "data": {
      "text/plain": [
       "array([39, 65, 67, 53, 61, 99])"
      ]
     },
     "execution_count": 47,
     "metadata": {},
     "output_type": "execute_result"
    }
   ],
   "source": [
    "A[A > 30]"
   ]
  },
  {
   "cell_type": "markdown",
   "id": "2cbcaede-972f-419c-99a5-9c9148de1b44",
   "metadata": {},
   "source": [
    "## Linear Algebra"
   ]
  },
  {
   "cell_type": "markdown",
   "id": "348032f0-157b-4c3c-9965-059ff9bdb8c0",
   "metadata": {},
   "source": [
    "Numpy has built in EFFICIENT operations, dot products, cross products etc...."
   ]
  },
  {
   "cell_type": "code",
   "execution_count": 99,
   "id": "a985098f-7bb1-45cc-9634-7fea51298f57",
   "metadata": {},
   "outputs": [],
   "source": [
    "A,C = np.array(np.random.randint(5, size=(3,3))),np.array(np.random.randint(5, size=(3,3)))"
   ]
  },
  {
   "cell_type": "code",
   "execution_count": 100,
   "id": "ffd0ccb7-4eff-4a48-be09-d4529ca90b23",
   "metadata": {},
   "outputs": [
    {
     "data": {
      "text/plain": [
       "(array([[2, 4, 4],\n",
       "        [0, 3, 4],\n",
       "        [1, 1, 2]]),\n",
       " array([[4, 3, 4],\n",
       "        [4, 3, 1],\n",
       "        [3, 2, 2]]))"
      ]
     },
     "execution_count": 100,
     "metadata": {},
     "output_type": "execute_result"
    }
   ],
   "source": [
    "A,C"
   ]
  },
  {
   "cell_type": "code",
   "execution_count": 101,
   "id": "19cf179b-ac40-4560-a758-8983c701f66d",
   "metadata": {},
   "outputs": [],
   "source": [
    "B = np.array(np.random.randint(5, size=(3,2)))"
   ]
  },
  {
   "cell_type": "code",
   "execution_count": 102,
   "id": "6ad3fff9-1b69-48ae-8870-77296314b6e1",
   "metadata": {},
   "outputs": [
    {
     "data": {
      "text/plain": [
       "array([[0, 3],\n",
       "       [0, 0],\n",
       "       [4, 2]])"
      ]
     },
     "execution_count": 102,
     "metadata": {},
     "output_type": "execute_result"
    }
   ],
   "source": [
    "B"
   ]
  },
  {
   "cell_type": "code",
   "execution_count": 103,
   "id": "be712442-d44b-41c5-9b6e-ed03088cbdb6",
   "metadata": {},
   "outputs": [
    {
     "data": {
      "text/plain": [
       "array([[16, 14],\n",
       "       [16,  8],\n",
       "       [ 8,  7]])"
      ]
     },
     "execution_count": 103,
     "metadata": {},
     "output_type": "execute_result"
    }
   ],
   "source": [
    "A.dot(B)"
   ]
  },
  {
   "cell_type": "markdown",
   "id": "73afd46c-c48d-4f4b-831b-d1ae7ec6275d",
   "metadata": {},
   "source": [
    "Cross product"
   ]
  },
  {
   "cell_type": "code",
   "execution_count": 104,
   "id": "fa884de8-7311-4226-850b-b1280bf263bf",
   "metadata": {},
   "outputs": [
    {
     "data": {
      "text/plain": [
       "array([[16, 14],\n",
       "       [16,  8],\n",
       "       [ 8,  7]])"
      ]
     },
     "execution_count": 104,
     "metadata": {},
     "output_type": "execute_result"
    }
   ],
   "source": [
    "A @ B"
   ]
  },
  {
   "cell_type": "markdown",
   "id": "16cafa08-83b4-4534-87bb-d49e8b27fd8c",
   "metadata": {},
   "source": [
    "Transverse Matrix"
   ]
  },
  {
   "cell_type": "code",
   "execution_count": 105,
   "id": "73aa11f4-cc49-46c7-a387-1abe5b464fbc",
   "metadata": {},
   "outputs": [
    {
     "data": {
      "text/plain": [
       "array([[0, 0, 4],\n",
       "       [3, 0, 2]])"
      ]
     },
     "execution_count": 105,
     "metadata": {},
     "output_type": "execute_result"
    }
   ],
   "source": [
    "B.T"
   ]
  },
  {
   "cell_type": "markdown",
   "id": "41606096-78db-467c-b408-83ac5bb3e787",
   "metadata": {},
   "source": [
    "transpose of B cross A"
   ]
  },
  {
   "cell_type": "code",
   "execution_count": 108,
   "id": "2bf6a79b-7684-437f-9a50-6ed26b27d00f",
   "metadata": {},
   "outputs": [
    {
     "data": {
      "text/plain": [
       "array([[ 4,  4,  8],\n",
       "       [ 8, 14, 16]])"
      ]
     },
     "execution_count": 108,
     "metadata": {},
     "output_type": "execute_result"
    }
   ],
   "source": [
    "(B.T) @ A"
   ]
  },
  {
   "cell_type": "markdown",
   "id": "d96f741e-b786-4305-acf7-cad07e354d0d",
   "metadata": {},
   "source": []
  }
 ],
 "metadata": {
  "kernelspec": {
   "display_name": "Python 3 (ipykernel)",
   "language": "python",
   "name": "python3"
  },
  "language_info": {
   "codemirror_mode": {
    "name": "ipython",
    "version": 3
   },
   "file_extension": ".py",
   "mimetype": "text/x-python",
   "name": "python",
   "nbconvert_exporter": "python",
   "pygments_lexer": "ipython3",
   "version": "3.9.9"
  }
 },
 "nbformat": 4,
 "nbformat_minor": 5
}
